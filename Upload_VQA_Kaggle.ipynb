{
  "cells": [
    {
      "cell_type": "markdown",
      "metadata": {
        "id": "IVRpRdxS_IpB"
      },
      "source": [
        "#All Imports"
      ]
    },
    {
      "cell_type": "code",
      "execution_count": null,
      "metadata": {
        "id": "5HWYzRjuOUrm"
      },
      "outputs": [],
      "source": [
        "import json #to create dataset metadata json file\n",
        "import os # to work with pathes"
      ]
    },
    {
      "cell_type": "markdown",
      "metadata": {
        "id": "xg_FsOrM_aXW"
      },
      "source": [
        "#Tasks"
      ]
    },
    {
      "cell_type": "markdown",
      "metadata": {
        "id": "9Oy2plaB_cz4"
      },
      "source": [
        "## downlaod the dataset"
      ]
    },
    {
      "cell_type": "code",
      "execution_count": null,
      "metadata": {
        "colab": {
          "base_uri": "https://localhost:8080/"
        },
        "id": "EbNJemFI_b7A",
        "outputId": "3aed4662-8909-40f8-cf8a-bd73e3bf5a3c"
      },
      "outputs": [
        {
          "output_type": "stream",
          "name": "stdout",
          "text": [
            "--2023-05-05 14:44:17--  http://images.cocodataset.org/zips/train2014.zip\n",
            "Resolving images.cocodataset.org (images.cocodataset.org)... 52.217.135.193, 3.5.25.141, 52.217.136.145, ...\n",
            "Connecting to images.cocodataset.org (images.cocodataset.org)|52.217.135.193|:80... connected.\n",
            "HTTP request sent, awaiting response... 200 OK\n",
            "Length: 13510573713 (13G) [application/zip]\n",
            "Saving to: ‘train2014.zip’\n",
            "\n",
            "train2014.zip       100%[===================>]  12.58G  58.8MB/s    in 3m 45s  \n",
            "\n",
            "2023-05-05 14:48:02 (57.2 MB/s) - ‘train2014.zip’ saved [13510573713/13510573713]\n",
            "\n"
          ]
        }
      ],
      "source": [
        "!wget http://images.cocodataset.org/zips/train2014.zip  #train images"
      ]
    },
    {
      "cell_type": "code",
      "execution_count": null,
      "metadata": {
        "colab": {
          "base_uri": "https://localhost:8080/"
        },
        "id": "mb_nc0BeKC5N",
        "outputId": "a28bc767-f3a4-4e46-bfa1-63d537c07ac4"
      },
      "outputs": [
        {
          "output_type": "stream",
          "name": "stdout",
          "text": [
            "--2023-05-05 15:12:59--  http://images.cocodataset.org/zips/val2014.zip\n",
            "Resolving images.cocodataset.org (images.cocodataset.org)... 52.217.90.108, 3.5.25.139, 54.231.138.1, ...\n",
            "Connecting to images.cocodataset.org (images.cocodataset.org)|52.217.90.108|:80... connected.\n",
            "HTTP request sent, awaiting response... 200 OK\n",
            "Length: 6645013297 (6.2G) [application/zip]\n",
            "Saving to: ‘val2014.zip’\n",
            "\n",
            "val2014.zip         100%[===================>]   6.19G  42.5MB/s    in 2m 12s  \n",
            "\n",
            "2023-05-05 15:15:12 (47.9 MB/s) - ‘val2014.zip’ saved [6645013297/6645013297]\n",
            "\n"
          ]
        }
      ],
      "source": [
        "!wget http://images.cocodataset.org/zips/val2014.zip  #val images"
      ]
    },
    {
      "cell_type": "code",
      "execution_count": null,
      "metadata": {
        "colab": {
          "base_uri": "https://localhost:8080/"
        },
        "id": "x__OhP18NSii",
        "outputId": "5ed8b209-e033-4888-c82c-9207fe75c510"
      },
      "outputs": [
        {
          "output_type": "stream",
          "name": "stdout",
          "text": [
            "--2023-05-05 14:48:04--  https://s3.amazonaws.com/cvmlp/vqa/mscoco/vqa/v2_Questions_Train_mscoco.zip\n",
            "Resolving s3.amazonaws.com (s3.amazonaws.com)... 52.217.47.78, 52.217.129.112, 52.216.238.165, ...\n",
            "Connecting to s3.amazonaws.com (s3.amazonaws.com)|52.217.47.78|:443... connected.\n",
            "HTTP request sent, awaiting response... 200 OK\n",
            "Length: 7239401 (6.9M) [application/zip]\n",
            "Saving to: ‘v2_Questions_Train_mscoco.zip’\n",
            "\n",
            "v2_Questions_Train_ 100%[===================>]   6.90M  27.8MB/s    in 0.2s    \n",
            "\n",
            "2023-05-05 14:48:05 (27.8 MB/s) - ‘v2_Questions_Train_mscoco.zip’ saved [7239401/7239401]\n",
            "\n"
          ]
        }
      ],
      "source": [
        "!wget https://s3.amazonaws.com/cvmlp/vqa/mscoco/vqa/v2_Questions_Train_mscoco.zip #train questions"
      ]
    },
    {
      "cell_type": "code",
      "execution_count": null,
      "metadata": {
        "colab": {
          "base_uri": "https://localhost:8080/"
        },
        "id": "YCuLYbC3NSWy",
        "outputId": "6aa17ba7-66be-4e6e-f8ee-c09a0ef048ae"
      },
      "outputs": [
        {
          "output_type": "stream",
          "name": "stdout",
          "text": [
            "--2023-05-05 14:48:05--  https://s3.amazonaws.com/cvmlp/vqa/mscoco/vqa/v2_Annotations_Train_mscoco.zip\n",
            "Resolving s3.amazonaws.com (s3.amazonaws.com)... 52.217.47.78, 52.217.129.112, 52.216.238.165, ...\n",
            "Connecting to s3.amazonaws.com (s3.amazonaws.com)|52.217.47.78|:443... connected.\n",
            "HTTP request sent, awaiting response... 200 OK\n",
            "Length: 21708861 (21M) [application/zip]\n",
            "Saving to: ‘v2_Annotations_Train_mscoco.zip’\n",
            "\n",
            "v2_Annotations_Trai 100%[===================>]  20.70M  44.9MB/s    in 0.5s    \n",
            "\n",
            "2023-05-05 14:48:06 (44.9 MB/s) - ‘v2_Annotations_Train_mscoco.zip’ saved [21708861/21708861]\n",
            "\n"
          ]
        }
      ],
      "source": [
        "!wget https://s3.amazonaws.com/cvmlp/vqa/mscoco/vqa/v2_Annotations_Train_mscoco.zip #train answers"
      ]
    },
    {
      "cell_type": "code",
      "execution_count": null,
      "metadata": {
        "colab": {
          "base_uri": "https://localhost:8080/"
        },
        "id": "Ssm48az6NSJ8",
        "outputId": "13306c83-81cf-4583-cd9b-8871ad284635"
      },
      "outputs": [
        {
          "output_type": "stream",
          "name": "stdout",
          "text": [
            "--2023-05-05 14:48:06--  https://s3.amazonaws.com/cvmlp/vqa/mscoco/vqa/v2_Questions_Val_mscoco.zip\n",
            "Resolving s3.amazonaws.com (s3.amazonaws.com)... 52.217.47.78, 52.217.129.112, 52.216.238.165, ...\n",
            "Connecting to s3.amazonaws.com (s3.amazonaws.com)|52.217.47.78|:443... connected.\n",
            "HTTP request sent, awaiting response... 200 OK\n",
            "Length: 3494929 (3.3M) [application/zip]\n",
            "Saving to: ‘v2_Questions_Val_mscoco.zip’\n",
            "\n",
            "v2_Questions_Val_ms 100%[===================>]   3.33M  15.8MB/s    in 0.2s    \n",
            "\n",
            "2023-05-05 14:48:06 (15.8 MB/s) - ‘v2_Questions_Val_mscoco.zip’ saved [3494929/3494929]\n",
            "\n"
          ]
        }
      ],
      "source": [
        "!wget https://s3.amazonaws.com/cvmlp/vqa/mscoco/vqa/v2_Questions_Val_mscoco.zip #val questions"
      ]
    },
    {
      "cell_type": "code",
      "execution_count": null,
      "metadata": {
        "colab": {
          "base_uri": "https://localhost:8080/"
        },
        "id": "eD4aiA3ANYM5",
        "outputId": "028b9558-7e28-4249-d6fc-b5a117ce72e4"
      },
      "outputs": [
        {
          "output_type": "stream",
          "name": "stdout",
          "text": [
            "--2023-05-05 14:48:06--  https://s3.amazonaws.com/cvmlp/vqa/mscoco/vqa/v2_Annotations_Val_mscoco.zip\n",
            "Resolving s3.amazonaws.com (s3.amazonaws.com)... 52.217.47.78, 52.217.129.112, 52.216.238.165, ...\n",
            "Connecting to s3.amazonaws.com (s3.amazonaws.com)|52.217.47.78|:443... connected.\n",
            "HTTP request sent, awaiting response... 200 OK\n",
            "Length: 10518930 (10M) [application/zip]\n",
            "Saving to: ‘v2_Annotations_Val_mscoco.zip’\n",
            "\n",
            "v2_Annotations_Val_ 100%[===================>]  10.03M  30.0MB/s    in 0.3s    \n",
            "\n",
            "2023-05-05 14:48:07 (30.0 MB/s) - ‘v2_Annotations_Val_mscoco.zip’ saved [10518930/10518930]\n",
            "\n"
          ]
        }
      ],
      "source": [
        "!wget https://s3.amazonaws.com/cvmlp/vqa/mscoco/vqa/v2_Annotations_Val_mscoco.zip #val answers"
      ]
    },
    {
      "cell_type": "code",
      "execution_count": null,
      "metadata": {
        "colab": {
          "base_uri": "https://localhost:8080/"
        },
        "id": "jKZbLdZUOLx0",
        "outputId": "878a2cb0-acf8-4e78-fc62-8751674edcca"
      },
      "outputs": [
        {
          "output_type": "stream",
          "name": "stdout",
          "text": [
            "--2023-05-05 15:15:12--  http://images.cocodataset.org/zips/test2015.zip\n",
            "Resolving images.cocodataset.org (images.cocodataset.org)... 3.5.10.182, 3.5.29.191, 52.216.43.241, ...\n",
            "Connecting to images.cocodataset.org (images.cocodataset.org)|3.5.10.182|:80... connected.\n",
            "HTTP request sent, awaiting response... 200 OK\n",
            "Length: 13270587935 (12G) [application/zip]\n",
            "Saving to: ‘test2015.zip’\n",
            "\n",
            "test2015.zip        100%[===================>]  12.36G  47.2MB/s    in 4m 52s  \n",
            "\n",
            "2023-05-05 15:20:05 (43.3 MB/s) - ‘test2015.zip’ saved [13270587935/13270587935]\n",
            "\n"
          ]
        }
      ],
      "source": [
        "!wget http://images.cocodataset.org/zips/test2015.zip #test images"
      ]
    },
    {
      "cell_type": "code",
      "execution_count": null,
      "metadata": {
        "colab": {
          "base_uri": "https://localhost:8080/"
        },
        "id": "EYG4KwfGOSpW",
        "outputId": "2979af9d-f5d1-4b46-d500-fc591be3fffc"
      },
      "outputs": [
        {
          "output_type": "stream",
          "name": "stdout",
          "text": [
            "--2023-05-05 14:48:22--  https://s3.amazonaws.com/cvmlp/vqa/mscoco/vqa/v2_Questions_Test_mscoco.zip\n",
            "Resolving s3.amazonaws.com (s3.amazonaws.com)... 54.231.192.152, 52.217.137.136, 54.231.133.48, ...\n",
            "Connecting to s3.amazonaws.com (s3.amazonaws.com)|54.231.192.152|:443... connected.\n",
            "HTTP request sent, awaiting response... 200 OK\n",
            "Length: 8966943 (8.6M) [application/zip]\n",
            "Saving to: ‘v2_Questions_Test_mscoco.zip’\n",
            "\n",
            "v2_Questions_Test_m 100%[===================>]   8.55M  31.9MB/s    in 0.3s    \n",
            "\n",
            "2023-05-05 14:48:23 (31.9 MB/s) - ‘v2_Questions_Test_mscoco.zip’ saved [8966943/8966943]\n",
            "\n"
          ]
        }
      ],
      "source": [
        "!wget https://s3.amazonaws.com/cvmlp/vqa/mscoco/vqa/v2_Questions_Test_mscoco.zip #test questions"
      ]
    },
    {
      "cell_type": "markdown",
      "source": [
        "## add the api from kaggle"
      ],
      "metadata": {
        "id": "5wBPKbzAhVYU"
      }
    },
    {
      "cell_type": "code",
      "execution_count": null,
      "metadata": {
        "id": "8WLAfPLCQh6M"
      },
      "outputs": [],
      "source": [
        "%%bash\n",
        "pip install -q kaggle\n",
        "mkdir -p ~/.kaggle\n",
        "mv kaggle.json ~/.kaggle\n",
        "chmod 600 /root/.kaggle/kaggle.json"
      ]
    },
    {
      "cell_type": "code",
      "execution_count": null,
      "metadata": {
        "id": "YAvaE1IFSMNy"
      },
      "outputs": [],
      "source": [
        "metadata = {                                        #dataset metadata\n",
        "    \"title\": \"{vqa 2.0 year 2023 for nti}\",\n",
        "    \"id\": \"hazemabbas/v-q-a\",\n",
        "    \"licenses\": [\n",
        "        {\n",
        "            \"name\": \"CC0-1.0\"\n",
        "        }\n",
        "    ],\n",
        "    \"description\": \"Thie is VQA v2 from the main website.\",\n",
        "    \"keywords\": [\"Vision\", \"Language\"],\n",
        "    \"source\": {\n",
        "        \"name\": \"VQA v2\",\n",
        "        \"url\": \"https://visualqa.org/download.html\"\n",
        "    }\n",
        "}\n",
        "\n",
        "json_object =json.dumps(metadata, indent=4)\n",
        "with open(\"/content/VQA/dataset-metadata.json\", \"w\") as outfile:\n",
        "    outfile.write(json_object)"
      ]
    },
    {
      "cell_type": "markdown",
      "source": [
        "## upload the dataset to kaggle"
      ],
      "metadata": {
        "id": "d-UexSIFhbi5"
      }
    },
    {
      "cell_type": "code",
      "execution_count": null,
      "metadata": {
        "colab": {
          "base_uri": "https://localhost:8080/"
        },
        "id": "Out1fGowxaRh",
        "outputId": "8a90cc8d-da83-43dc-9590-86b1f9c73165"
      },
      "outputs": [
        {
          "output_type": "stream",
          "name": "stdout",
          "text": [
            "/content/VQA\n"
          ]
        }
      ],
      "source": [
        "%cd /content/VQA"
      ]
    },
    {
      "cell_type": "code",
      "execution_count": null,
      "metadata": {
        "colab": {
          "base_uri": "https://localhost:8080/"
        },
        "id": "aY-JEeqnxfNg",
        "outputId": "e2734029-8f98-481c-eded-6cd129614209"
      },
      "outputs": [
        {
          "output_type": "stream",
          "name": "stdout",
          "text": [
            "/content/VQA\n"
          ]
        }
      ],
      "source": [
        "!pwd"
      ]
    },
    {
      "cell_type": "code",
      "execution_count": null,
      "metadata": {
        "colab": {
          "base_uri": "https://localhost:8080/"
        },
        "id": "7N5VRi1dxUP7",
        "outputId": "c702e987-6d81-421e-94cf-c1fe932cf335"
      },
      "outputs": [
        {
          "output_type": "stream",
          "name": "stdout",
          "text": [
            "Starting upload for file train2014.zip\n",
            "100% 12.6G/12.6G [02:19<00:00, 97.2MB/s]\n",
            "Upload successful: train2014.zip (13GB)\n",
            "Starting upload for file v2_Questions_Train_mscoco.zip\n",
            "100% 6.90M/6.90M [00:01<00:00, 3.90MB/s]\n",
            "Upload successful: v2_Questions_Train_mscoco.zip (7MB)\n",
            "Starting upload for file v2_Annotations_Train_mscoco.zip\n",
            "100% 20.7M/20.7M [00:02<00:00, 9.71MB/s]\n",
            "Upload successful: v2_Annotations_Train_mscoco.zip (21MB)\n",
            "Starting upload for file v2_Questions_Val_mscoco.zip\n",
            "100% 3.33M/3.33M [00:01<00:00, 1.97MB/s]\n",
            "Upload successful: v2_Questions_Val_mscoco.zip (3MB)\n",
            "Starting upload for file v2_Questions_Test_mscoco.zip\n",
            "100% 8.55M/8.55M [00:01<00:00, 6.47MB/s]\n",
            "Upload successful: v2_Questions_Test_mscoco.zip (9MB)\n",
            "Starting upload for file val2014.zip\n",
            "100% 6.19G/6.19G [01:13<00:00, 90.1MB/s]\n",
            "Upload successful: val2014.zip (6GB)\n",
            "Starting upload for file test2015.zip\n",
            "100% 12.4G/12.4G [02:31<00:00, 87.8MB/s]\n",
            "Upload successful: test2015.zip (12GB)\n",
            "Starting upload for file v2_Annotations_Val_mscoco.zip\n",
            "100% 10.0M/10.0M [00:02<00:00, 4.57MB/s]\n",
            "Upload successful: v2_Annotations_Val_mscoco.zip (10MB)\n",
            "Dataset creation error: The requested title \"{vqa 20 year 2023 for nti}\" is already in use by a dataset. Please choose another title.\n"
          ]
        }
      ],
      "source": [
        "!kaggle datasets create -p . -r zip"
      ]
    },
    {
      "cell_type": "code",
      "source": [
        "!kaggle datasets version --path . --dir-mode zip -m \"Init version\""
      ],
      "metadata": {
        "colab": {
          "base_uri": "https://localhost:8080/"
        },
        "id": "IGihuoEkw_Sa",
        "outputId": "3c9ffb2e-7e91-4367-f75b-044cf50a61f7"
      },
      "execution_count": null,
      "outputs": [
        {
          "output_type": "stream",
          "name": "stdout",
          "text": [
            "Starting upload for file train2014.zip\n",
            "100% 12.6G/12.6G [02:36<00:00, 86.3MB/s]\n",
            "Upload successful: train2014.zip (13GB)\n",
            "Starting upload for file v2_Questions_Train_mscoco.zip\n",
            "100% 6.90M/6.90M [00:01<00:00, 5.35MB/s]\n",
            "Upload successful: v2_Questions_Train_mscoco.zip (7MB)\n",
            "Starting upload for file v2_Annotations_Train_mscoco.zip\n",
            "100% 20.7M/20.7M [00:02<00:00, 9.84MB/s]\n",
            "Upload successful: v2_Annotations_Train_mscoco.zip (21MB)\n",
            "Starting upload for file v2_Questions_Val_mscoco.zip\n",
            "100% 3.33M/3.33M [00:02<00:00, 1.60MB/s]\n",
            "Upload successful: v2_Questions_Val_mscoco.zip (3MB)\n",
            "Starting upload for file v2_Questions_Test_mscoco.zip\n",
            "100% 8.55M/8.55M [00:01<00:00, 6.54MB/s]\n",
            "Upload successful: v2_Questions_Test_mscoco.zip (9MB)\n",
            "Starting upload for file val2014.zip\n",
            "100% 6.19G/6.19G [01:06<00:00, 99.7MB/s]\n",
            "Upload successful: val2014.zip (6GB)\n",
            "Starting upload for file test2015.zip\n",
            "100% 12.4G/12.4G [02:07<00:00, 104MB/s]\n",
            "Upload successful: test2015.zip (12GB)\n",
            "Starting upload for file v2_Annotations_Val_mscoco.zip\n",
            "100% 10.0M/10.0M [00:01<00:00, 7.53MB/s]\n",
            "Upload successful: v2_Annotations_Val_mscoco.zip (10MB)\n",
            "The following are not valid tags and could not be added to the dataset: ['Vision', 'Language']\n",
            "Dataset version is being created. Please check progress at https://www.kaggle.com/hazemabbas/visual-question-answering\n"
          ]
        }
      ]
    },
    {
      "cell_type": "markdown",
      "source": [
        "#End"
      ],
      "metadata": {
        "id": "qUgxRH1EhP5T"
      }
    }
  ],
  "metadata": {
    "colab": {
      "provenance": []
    },
    "kernelspec": {
      "display_name": "Python 3",
      "name": "python3"
    },
    "language_info": {
      "name": "python"
    }
  },
  "nbformat": 4,
  "nbformat_minor": 0
}