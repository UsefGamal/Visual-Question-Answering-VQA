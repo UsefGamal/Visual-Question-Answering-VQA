{
  "nbformat": 4,
  "nbformat_minor": 0,
  "metadata": {
    "colab": {
      "provenance": []
    },
    "kernelspec": {
      "name": "python3",
      "display_name": "Python 3"
    },
    "language_info": {
      "name": "python"
    }
  },
  "cells": [
    {
      "cell_type": "markdown",
      "source": [
        "#all imports"
      ],
      "metadata": {
        "id": "T3L6uHJXQaAW"
      }
    },
    {
      "cell_type": "code",
      "source": [
        "# to get the custom model and tokenizer from drive\n",
        "from google.colab import drive\n",
        "drive.mount('/content/drive')"
      ],
      "metadata": {
        "id": "seb3Kv_E05UG",
        "colab": {
          "base_uri": "https://localhost:8080/"
        },
        "outputId": "01d06975-381d-4cc8-b9e3-d30c7c21b12a"
      },
      "execution_count": null,
      "outputs": [
        {
          "output_type": "stream",
          "name": "stdout",
          "text": [
            "Drive already mounted at /content/drive; to attempt to forcibly remount, call drive.mount(\"/content/drive\", force_remount=True).\n"
          ]
        }
      ]
    },
    {
      "cell_type": "code",
      "source": [
        "!pip install -q streamlit"
      ],
      "metadata": {
        "id": "DJvuiK83QetB"
      },
      "execution_count": null,
      "outputs": []
    },
    {
      "cell_type": "code",
      "source": [
        "!pip install transformers"
      ],
      "metadata": {
        "colab": {
          "base_uri": "https://localhost:8080/"
        },
        "id": "34UlcDqWIFdg",
        "outputId": "1329fa5d-ad64-448f-8db8-a3a5254fe0bb"
      },
      "execution_count": null,
      "outputs": [
        {
          "output_type": "stream",
          "name": "stdout",
          "text": [
            "Looking in indexes: https://pypi.org/simple, https://us-python.pkg.dev/colab-wheels/public/simple/\n",
            "Requirement already satisfied: transformers in /usr/local/lib/python3.10/dist-packages (4.28.1)\n",
            "Requirement already satisfied: filelock in /usr/local/lib/python3.10/dist-packages (from transformers) (3.12.0)\n",
            "Requirement already satisfied: huggingface-hub<1.0,>=0.11.0 in /usr/local/lib/python3.10/dist-packages (from transformers) (0.14.1)\n",
            "Requirement already satisfied: numpy>=1.17 in /usr/local/lib/python3.10/dist-packages (from transformers) (1.22.4)\n",
            "Requirement already satisfied: packaging>=20.0 in /usr/local/lib/python3.10/dist-packages (from transformers) (23.1)\n",
            "Requirement already satisfied: pyyaml>=5.1 in /usr/local/lib/python3.10/dist-packages (from transformers) (6.0)\n",
            "Requirement already satisfied: regex!=2019.12.17 in /usr/local/lib/python3.10/dist-packages (from transformers) (2022.10.31)\n",
            "Requirement already satisfied: requests in /usr/local/lib/python3.10/dist-packages (from transformers) (2.27.1)\n",
            "Requirement already satisfied: tokenizers!=0.11.3,<0.14,>=0.11.1 in /usr/local/lib/python3.10/dist-packages (from transformers) (0.13.3)\n",
            "Requirement already satisfied: tqdm>=4.27 in /usr/local/lib/python3.10/dist-packages (from transformers) (4.65.0)\n",
            "Requirement already satisfied: fsspec in /usr/local/lib/python3.10/dist-packages (from huggingface-hub<1.0,>=0.11.0->transformers) (2023.4.0)\n",
            "Requirement already satisfied: typing-extensions>=3.7.4.3 in /usr/local/lib/python3.10/dist-packages (from huggingface-hub<1.0,>=0.11.0->transformers) (4.5.0)\n",
            "Requirement already satisfied: urllib3<1.27,>=1.21.1 in /usr/local/lib/python3.10/dist-packages (from requests->transformers) (1.26.15)\n",
            "Requirement already satisfied: certifi>=2017.4.17 in /usr/local/lib/python3.10/dist-packages (from requests->transformers) (2022.12.7)\n",
            "Requirement already satisfied: charset-normalizer~=2.0.0 in /usr/local/lib/python3.10/dist-packages (from requests->transformers) (2.0.12)\n",
            "Requirement already satisfied: idna<4,>=2.5 in /usr/local/lib/python3.10/dist-packages (from requests->transformers) (3.4)\n"
          ]
        }
      ]
    },
    {
      "cell_type": "markdown",
      "source": [
        "#task"
      ],
      "metadata": {
        "id": "QlwztmUPQdDX"
      }
    },
    {
      "cell_type": "markdown",
      "source": [
        "## deploying the custom model"
      ],
      "metadata": {
        "id": "_Y2zbL2DAahi"
      }
    },
    {
      "cell_type": "code",
      "source": [
        "%%writefile custom_model_app.py\n",
        "import streamlit as st\n",
        "import tensorflow as tf\n",
        "import os\n",
        "import numpy as np\n",
        "from keras.utils import pad_sequences\n",
        "from keras.applications.inception_v3 import preprocess_input\n",
        "import pickle\n",
        "import requests\n",
        "from PIL import Image\n",
        "import cv2\n",
        "\n",
        "#Title\n",
        "st.title(\"Visual Question Answering Demo\")\n",
        "\n",
        "#load model, set cache to prevent reloading\n",
        "@st.cache(allow_output_mutation=True)\n",
        "def load_model():\n",
        "    model_incep = tf.keras.models.load_model(r'/content/drive/MyDrive/FInal Project NTI/Models/inception_v3_VQA.h5')\n",
        "    model_gru = tf.keras.models.load_model(r'/content/drive/MyDrive/FInal Project NTI/Models/inc_GRU_Nadam.h5')\n",
        "    # loading\n",
        "    with open(r'/content/drive/MyDrive/FInal Project NTI/Tokenizers/tokenizer.pickle', 'rb') as handle:\n",
        "      tokenizer = pickle.load(handle)\n",
        "    with open(r'/content/drive/MyDrive/FInal Project NTI/Tokenizers/answers_map.pkl', 'rb') as handle:\n",
        "      answer_tokenizer = pickle.load(handle)\n",
        "    with open(r'/content/drive/MyDrive/FInal Project NTI/Tokenizers/answers_map.pkl', 'rb') as fp:\n",
        "      answr_map =  pickle.load(fp)\n",
        "    \n",
        "    return model_incep, model_gru ,tokenizer ,answer_tokenizer , answr_map\n",
        "\n",
        "with st.spinner(\"Loading Model....\"):\n",
        "    model_incep, model_gru ,tokenizer ,answer_tokenizer , answr_map =load_model()\n",
        "    max_question_length = 30\n",
        "    \n",
        "\n",
        "# image preprocessing\n",
        "def load_image(image):\n",
        "    img=tf.image.decode_jpeg(image,channels=3)\n",
        "    img=tf.cast(img,tf.float32)\n",
        "    img=preprocess_input(img)\n",
        "    img=tf.image.resize(img,(299,299))\n",
        "    img=tf.expand_dims(img,axis=0)\n",
        "    return img\n",
        "\n",
        "#Get image URL from user\n",
        "image_path=st.text_input(\"Enter Image URL ...\",\"https://media.istockphoto.com/photos/passenger-airplane-flying-above-clouds-during-sunset-picture-id155439315?k=20&m=155439315&s=612x612&w=0&h=BvXCpRLaP5h1NnvyYI_2iRtSM0Xsz2jQhAmZ7nA7abA=\")\n",
        "question=st.text_input(\"Enter the question to answer...\",\"is there a human in the picture?\")\n",
        "\n",
        "if st.button('Refresh'):\n",
        "        st.experimental_rerun()\n",
        "#Get image from URL and predict\n",
        "if image_path:\n",
        "    try:\n",
        "        content=requests.get(image_path).content\n",
        "        st.write(\"Predicting Answer...\")\n",
        "        with st.spinner(\"Answering...\"):\n",
        "            resized_img=load_image(content)\n",
        "            img_features=model_incep.predict(resized_img)\n",
        "            question_data = tokenizer.texts_to_sequences(question)\n",
        "            padded_sequences = pad_sequences(question_data, maxlen=max_question_length)\n",
        "            #-- Predict the answers\n",
        "            pred_ind = model_gru.predict([np.asarray([padded_sequences[0]]), np.asarray([img_features[0]])])\n",
        "            st.write(\"Predicted Answer: \",list(answr_map.keys())[np.argmax(pred_ind)])\n",
        "            st.image(content,use_column_width=True)\n",
        "    except:\n",
        "        st.write(\"Invalid URL\")\n",
        "\n",
        "# image preprocessing\n",
        "def load_image1(image):\n",
        "    img1=preprocess_input(image)\n",
        "    resized_img=cv2.resize(img1,(299,299))\n",
        "    img2=np.expand_dims(resized_img,axis=0)\n",
        "    return img2\n",
        "\n",
        "#Get uploaded image from user\n",
        "uploaded_img = st.file_uploader(\"upload an Image..\", type=['png', 'jpg', 'jpeg'])\n",
        "\n",
        "if uploaded_img is not None:\n",
        "    img = np.asarray(Image.open(uploaded_img))\n",
        "    st.image(img)\n",
        "    try:\n",
        "      st.write(\"Predicting Answer...\")\n",
        "      with st.spinner(\"Answering...\"):\n",
        "            resized_im=load_image1(img)\n",
        "            img_features=model_incep.predict(resized_im)\n",
        "            question_data = tokenizer.texts_to_sequences(question)\n",
        "            padded_sequences = pad_sequences(question_data, maxlen=max_question_length)\n",
        "            #-- Predict the answers\n",
        "            pred_ind = model_gru.predict([np.asarray([padded_sequences[0]]), np.asarray([img_features[0]])])\n",
        "            st.write(\"Predicted Answer: \",list(answr_map.keys())[np.argmax(pred_ind)])\n",
        "            \n",
        "    except:\n",
        "        st.write(\"Invalid URL\")\n"
      ],
      "metadata": {
        "colab": {
          "base_uri": "https://localhost:8080/"
        },
        "id": "lVVnNhvSQdzX",
        "outputId": "45a92e38-4572-4627-ce53-58f35e146941"
      },
      "execution_count": null,
      "outputs": [
        {
          "output_type": "stream",
          "name": "stdout",
          "text": [
            "Overwriting custom_model_app.py\n"
          ]
        }
      ]
    },
    {
      "cell_type": "code",
      "source": [
        "!streamlit run custom_model_app.py & npx localtunnel --port 8501"
      ],
      "metadata": {
        "colab": {
          "base_uri": "https://localhost:8080/"
        },
        "id": "j-e6iy4FyQu-",
        "outputId": "2fa653aa-6e80-4ea1-fa83-7126c9e8e81c"
      },
      "execution_count": null,
      "outputs": [
        {
          "output_type": "stream",
          "name": "stdout",
          "text": [
            "[############......] \\ finalize:wrap-ansi: sill finalize /root/.npm/_npx/30509/\u001b[0m\u001b[K\n",
            "Collecting usage statistics. To deactivate, set browser.gatherUsageStats to False.\n",
            "\u001b[0m\n",
            "\u001b[K\u001b[?25hnpx: installed 22 in 2.93s\n",
            "your url is: https://real-schools-glow.loca.lt\n",
            "\u001b[0m\n",
            "\u001b[34m\u001b[1m  You can now view your Streamlit app in your browser.\u001b[0m\n",
            "\u001b[0m\n",
            "\u001b[34m  Network URL: \u001b[0m\u001b[1mhttp://172.28.0.12:8501\u001b[0m\n",
            "\u001b[34m  External URL: \u001b[0m\u001b[1mhttp://104.199.136.209:8501\u001b[0m\n",
            "\u001b[0m\n",
            "\u001b[34m  Stopping...\u001b[0m\n",
            "^C\n"
          ]
        }
      ]
    },
    {
      "cell_type": "markdown",
      "source": [
        "## deploying the pretrained model"
      ],
      "metadata": {
        "id": "S5-ke3ZzAfbk"
      }
    },
    {
      "cell_type": "code",
      "source": [
        "%%writefile pretrained_model_app.py\n",
        "import streamlit as st\n",
        "from transformers import ViltProcessor, ViltForQuestionAnswering\n",
        "import requests\n",
        "from PIL import Image\n",
        "import numpy as np\n",
        "\n",
        "#Title\n",
        "st.title(\"Visual Question Answering Demo\")\n",
        "\n",
        "#load model, set cache to prevent reloading\n",
        "@st.cache(allow_output_mutation=True)\n",
        "def load_model():\n",
        "    processor = ViltProcessor.from_pretrained(\"dandelin/vilt-b32-finetuned-vqa\")\n",
        "    model = ViltForQuestionAnswering.from_pretrained(\"dandelin/vilt-b32-finetuned-vqa\")\n",
        "    \n",
        "    return processor, model\n",
        "\n",
        "with st.spinner(\"Loading Model....\"):\n",
        "    processor, model =load_model()\n",
        "    \n",
        "\n",
        "#Get image URL from user\n",
        "image_path=st.text_input(\"Enter Image URL to classify...\",\"https://media.istockphoto.com/photos/passenger-airplane-flying-above-clouds-during-sunset-picture-id155439315?k=20&m=155439315&s=612x612&w=0&h=BvXCpRLaP5h1NnvyYI_2iRtSM0Xsz2jQhAmZ7nA7abA=\")\n",
        "\n",
        "#get question\n",
        "question=st.text_input(\"Enter Image URL to classify...\",\"how many bananas in the image?\")\n",
        "\n",
        "if st.button('Refresh'):\n",
        "        st.experimental_rerun()\n",
        "#Get image from URL and predict\n",
        "if image_path:\n",
        "    try:\n",
        "      content=requests.get(image_path).content\n",
        "      st.image(content,use_column_width=True)\n",
        "      st.write(\"Predicting Answer...\")\n",
        "      with st.spinner(\"Answering...\"):\n",
        "            image = Image.open(requests.get(image_path, stream=True).raw)\n",
        "            encoding = processor(image, question, return_tensors=\"pt\")\n",
        "\n",
        "            outputs = model(**encoding)\n",
        "            logits = outputs.logits\n",
        "            idx = logits.argmax(-1).item()\n",
        "            st.write(\"Predicted answer:\", model.config.id2label[idx])\n",
        "    except:\n",
        "        st.write(\"Invalid URL\")\n",
        "\n",
        "#Get uploaded image from user\n",
        "uploaded_img = st.file_uploader(\"upload an Image..\", type=['png', 'jpg', 'jpeg'])\n",
        "\n",
        "if uploaded_img is not None:\n",
        "    img = np.asarray(Image.open(uploaded_img))\n",
        "    st.image(img)\n",
        "    try:\n",
        "      st.write(\"Predicting Answer...\")\n",
        "      with st.spinner(\"Answering...\"):\n",
        "            encoding = processor(img, question, return_tensors=\"pt\")\n",
        "\n",
        "            outputs = model(**encoding)\n",
        "            logits = outputs.logits\n",
        "            idx = logits.argmax(-1).item()\n",
        "            st.write(\"Predicted answer:\", model.config.id2label[idx])\n",
        "            \n",
        "    except:\n",
        "        st.write(\"Invalid URL\")"
      ],
      "metadata": {
        "colab": {
          "base_uri": "https://localhost:8080/"
        },
        "id": "oGBvmmX3IBdx",
        "outputId": "320f5770-225a-4f27-ccab-338d40e2c3fa"
      },
      "execution_count": null,
      "outputs": [
        {
          "output_type": "stream",
          "name": "stdout",
          "text": [
            "Writing pretrained_model_app.py\n"
          ]
        }
      ]
    },
    {
      "cell_type": "code",
      "source": [
        "from transformers import ViltProcessor, ViltForQuestionAnswering\n",
        "\n",
        "processor = ViltProcessor.from_pretrained(\"dandelin/vilt-b32-finetuned-vqa\")\n",
        "model = ViltForQuestionAnswering.from_pretrained(\"dandelin/vilt-b32-finetuned-vqa\")"
      ],
      "metadata": {
        "id": "Bccj5CrjKYLV"
      },
      "execution_count": null,
      "outputs": []
    },
    {
      "cell_type": "code",
      "source": [
        "!streamlit run pretrained_model_app.py & npx localtunnel --port 8501"
      ],
      "metadata": {
        "colab": {
          "base_uri": "https://localhost:8080/"
        },
        "id": "M4jgzagHdpyM",
        "outputId": "61e25eba-681e-4231-9e3c-fa10abdf7449"
      },
      "execution_count": null,
      "outputs": [
        {
          "output_type": "stream",
          "name": "stdout",
          "text": [
            "\n",
            "Collecting usage statistics. To deactivate, set browser.gatherUsageStats to False.\n",
            "\u001b[0m\n",
            "\u001b[K\u001b[?25hnpx: installed 22 in 2.994s\n",
            "your url is: https://orange-geese-build.loca.lt\n",
            "\u001b[0m\n",
            "\u001b[34m\u001b[1m  You can now view your Streamlit app in your browser.\u001b[0m\n",
            "\u001b[0m\n",
            "\u001b[34m  Network URL: \u001b[0m\u001b[1mhttp://172.28.0.12:8501\u001b[0m\n",
            "\u001b[34m  External URL: \u001b[0m\u001b[1mhttp://104.199.136.209:8501\u001b[0m\n",
            "\u001b[0m\n",
            "2023-05-10 10:33:11.165298: W tensorflow/compiler/tf2tensorrt/utils/py_utils.cc:38] TF-TRT Warning: Could not find TensorRT\n",
            "2023-05-10 10:33:15.367 `st.cache` is deprecated. Please use one of Streamlit's new caching commands,\n",
            "`st.cache_data` or `st.cache_resource`.\n",
            "\n",
            "More information [in our docs](https://docs.streamlit.io/library/advanced-features/caching).\n",
            "2023-05-10 10:33:54.976 `st.cache` is deprecated. Please use one of Streamlit's new caching commands,\n",
            "`st.cache_data` or `st.cache_resource`.\n",
            "\n",
            "More information [in our docs](https://docs.streamlit.io/library/advanced-features/caching).\n",
            "2023-05-10 10:34:10.086 `st.cache` is deprecated. Please use one of Streamlit's new caching commands,\n",
            "`st.cache_data` or `st.cache_resource`.\n",
            "\n",
            "More information [in our docs](https://docs.streamlit.io/library/advanced-features/caching).\n",
            "2023-05-10 10:34:38.987 `st.cache` is deprecated. Please use one of Streamlit's new caching commands,\n",
            "`st.cache_data` or `st.cache_resource`.\n",
            "\n",
            "More information [in our docs](https://docs.streamlit.io/library/advanced-features/caching).\n",
            "2023-05-10 10:34:40.145 `st.cache` is deprecated. Please use one of Streamlit's new caching commands,\n",
            "`st.cache_data` or `st.cache_resource`.\n",
            "\n",
            "More information [in our docs](https://docs.streamlit.io/library/advanced-features/caching).\n",
            "\u001b[34m  Stopping...\u001b[0m\n",
            "^C\n"
          ]
        }
      ]
    },
    {
      "cell_type": "markdown",
      "source": [
        "#end"
      ],
      "metadata": {
        "id": "SRZjw5mmAWix"
      }
    }
  ]
}